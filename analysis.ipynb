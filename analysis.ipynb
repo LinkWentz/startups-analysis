{
 "cells": [
  {
   "cell_type": "code",
   "execution_count": 1,
   "id": "7d7d3b9e-636f-4387-84aa-e6cd217cc95f",
   "metadata": {},
   "outputs": [
    {
     "name": "stderr",
     "output_type": "stream",
     "text": [
      "C:\\Programs\\Anaconda\\lib\\site-packages\\numpy\\_distributor_init.py:30: UserWarning: loaded more than 1 DLL from .libs:\n",
      "C:\\Programs\\Anaconda\\lib\\site-packages\\numpy\\.libs\\libopenblas.EL2C6PLE4ZYW3ECEVIV3OXXGRN2NRFM2.gfortran-win_amd64.dll\n",
      "C:\\Programs\\Anaconda\\lib\\site-packages\\numpy\\.libs\\libopenblas.PYQHXLVVQ7VESDPUVUADXEVJOBGHJPAY.gfortran-win_amd64.dll\n",
      "  warnings.warn(\"loaded more than 1 DLL from .libs:\"\n"
     ]
    }
   ],
   "source": [
    "import numpy as np\n",
    "import pandas as pd\n",
    "import matplotlib.pyplot as plt\n",
    "import re\n",
    "import math"
   ]
  },
  {
   "cell_type": "code",
   "execution_count": 2,
   "id": "50973133-b57a-45fd-bef2-a77e7a2969d1",
   "metadata": {},
   "outputs": [],
   "source": [
    "bdc = pd.read_csv('unicorns.csv')"
   ]
  },
  {
   "cell_type": "markdown",
   "id": "fa29abb4-9546-4cb7-a587-653e819cb276",
   "metadata": {},
   "source": [
    "### The Data\n",
    "The data comes from a user named \"The Devastator\" on Kaggle. It consists of a few very interesting columns including the last valuation of each startup, as well as it's location, the industry it operates in, and its investors."
   ]
  },
  {
   "cell_type": "code",
   "execution_count": 3,
   "id": "b2e45343-e33c-4d79-925a-3e0e0aecf864",
   "metadata": {},
   "outputs": [
    {
     "data": {
      "text/html": [
       "<div>\n",
       "<style scoped>\n",
       "    .dataframe tbody tr th:only-of-type {\n",
       "        vertical-align: middle;\n",
       "    }\n",
       "\n",
       "    .dataframe tbody tr th {\n",
       "        vertical-align: top;\n",
       "    }\n",
       "\n",
       "    .dataframe thead th {\n",
       "        text-align: right;\n",
       "    }\n",
       "</style>\n",
       "<table border=\"1\" class=\"dataframe\">\n",
       "  <thead>\n",
       "    <tr style=\"text-align: right;\">\n",
       "      <th></th>\n",
       "      <th>Updated at</th>\n",
       "      <th>Company</th>\n",
       "      <th>Crunchbase Url</th>\n",
       "      <th>Last Valuation (Billion $)</th>\n",
       "      <th>Date Joined</th>\n",
       "      <th>Year Joined</th>\n",
       "      <th>City</th>\n",
       "      <th>Country</th>\n",
       "      <th>Industry</th>\n",
       "      <th>Investors</th>\n",
       "      <th>Company Website</th>\n",
       "    </tr>\n",
       "  </thead>\n",
       "  <tbody>\n",
       "    <tr>\n",
       "      <th>0</th>\n",
       "      <td>10/31/2022, 2:37:05 AM</td>\n",
       "      <td>Esusu</td>\n",
       "      <td>https://www.cbinsights.com/company/esusu</td>\n",
       "      <td>1.0</td>\n",
       "      <td>1/27/2022</td>\n",
       "      <td>2022</td>\n",
       "      <td>New York</td>\n",
       "      <td>United States</td>\n",
       "      <td>Fintech</td>\n",
       "      <td>[\"Next Play Ventures\",\"Zeal Capital Partners\",...</td>\n",
       "      <td>NaN</td>\n",
       "    </tr>\n",
       "    <tr>\n",
       "      <th>1</th>\n",
       "      <td>10/31/2022, 2:37:05 AM</td>\n",
       "      <td>Fever Labs</td>\n",
       "      <td>https://www.cbinsights.com/company/fever-labs</td>\n",
       "      <td>1.0</td>\n",
       "      <td>1/26/2022</td>\n",
       "      <td>2022</td>\n",
       "      <td>New York</td>\n",
       "      <td>United States</td>\n",
       "      <td>Internet software &amp; services</td>\n",
       "      <td>[\"Accel\",\"14W\",\"GS Growth\"]</td>\n",
       "      <td>NaN</td>\n",
       "    </tr>\n",
       "    <tr>\n",
       "      <th>2</th>\n",
       "      <td>10/31/2022, 2:37:04 AM</td>\n",
       "      <td>Minio</td>\n",
       "      <td>https://www.cbinsights.com/company/minio</td>\n",
       "      <td>1.0</td>\n",
       "      <td>1/26/2022</td>\n",
       "      <td>2022</td>\n",
       "      <td>Palo Alto</td>\n",
       "      <td>United States</td>\n",
       "      <td>Data management &amp; analytics</td>\n",
       "      <td>[\"General Catalyst\",\"Nexus Venture Partners\",\"...</td>\n",
       "      <td>NaN</td>\n",
       "    </tr>\n",
       "    <tr>\n",
       "      <th>3</th>\n",
       "      <td>10/31/2022, 2:37:04 AM</td>\n",
       "      <td>Darwinbox</td>\n",
       "      <td>https://www.cbinsights.com/company/darwinbox</td>\n",
       "      <td>1.0</td>\n",
       "      <td>1/25/2022</td>\n",
       "      <td>2022</td>\n",
       "      <td>Hyderabad</td>\n",
       "      <td>India</td>\n",
       "      <td>Internet software &amp; services</td>\n",
       "      <td>[\"Lightspeed India Partners\",\"Sequoia Capital ...</td>\n",
       "      <td>NaN</td>\n",
       "    </tr>\n",
       "    <tr>\n",
       "      <th>4</th>\n",
       "      <td>10/31/2022, 2:37:04 AM</td>\n",
       "      <td>Pentera</td>\n",
       "      <td>https://www.cbinsights.com/company/pcysys</td>\n",
       "      <td>1.0</td>\n",
       "      <td>1/11/2022</td>\n",
       "      <td>2022</td>\n",
       "      <td>Petah Tikva</td>\n",
       "      <td>Israel</td>\n",
       "      <td>Cybersecurity</td>\n",
       "      <td>[\"AWZ Ventures\",\"Blackstone\",\"Insight Partners\"]</td>\n",
       "      <td>NaN</td>\n",
       "    </tr>\n",
       "  </tbody>\n",
       "</table>\n",
       "</div>"
      ],
      "text/plain": [
       "               Updated at     Company  \\\n",
       "0  10/31/2022, 2:37:05 AM       Esusu   \n",
       "1  10/31/2022, 2:37:05 AM  Fever Labs   \n",
       "2  10/31/2022, 2:37:04 AM       Minio   \n",
       "3  10/31/2022, 2:37:04 AM   Darwinbox   \n",
       "4  10/31/2022, 2:37:04 AM     Pentera   \n",
       "\n",
       "                                  Crunchbase Url  Last Valuation (Billion $)  \\\n",
       "0       https://www.cbinsights.com/company/esusu                         1.0   \n",
       "1  https://www.cbinsights.com/company/fever-labs                         1.0   \n",
       "2       https://www.cbinsights.com/company/minio                         1.0   \n",
       "3   https://www.cbinsights.com/company/darwinbox                         1.0   \n",
       "4      https://www.cbinsights.com/company/pcysys                         1.0   \n",
       "\n",
       "  Date Joined  Year Joined         City        Country  \\\n",
       "0   1/27/2022         2022     New York  United States   \n",
       "1   1/26/2022         2022     New York  United States   \n",
       "2   1/26/2022         2022    Palo Alto  United States   \n",
       "3   1/25/2022         2022    Hyderabad          India   \n",
       "4   1/11/2022         2022  Petah Tikva         Israel   \n",
       "\n",
       "                       Industry  \\\n",
       "0                       Fintech   \n",
       "1  Internet software & services   \n",
       "2   Data management & analytics   \n",
       "3  Internet software & services   \n",
       "4                Cybersecurity    \n",
       "\n",
       "                                           Investors  Company Website  \n",
       "0  [\"Next Play Ventures\",\"Zeal Capital Partners\",...              NaN  \n",
       "1                        [\"Accel\",\"14W\",\"GS Growth\"]              NaN  \n",
       "2  [\"General Catalyst\",\"Nexus Venture Partners\",\"...              NaN  \n",
       "3  [\"Lightspeed India Partners\",\"Sequoia Capital ...              NaN  \n",
       "4   [\"AWZ Ventures\",\"Blackstone\",\"Insight Partners\"]              NaN  "
      ]
     },
     "execution_count": 3,
     "metadata": {},
     "output_type": "execute_result"
    }
   ],
   "source": [
    "bdc.head()"
   ]
  },
  {
   "cell_type": "markdown",
   "id": "af8a505c-1d15-4b46-8fd8-79c13fbad885",
   "metadata": {},
   "source": [
    "#### How many startups are in each industry, and where are those startups located?\n",
    "Since the startups have both location and industry information attached to them, I figured it would be interesting to look at both the amount of startups in each industry, and the proportions of each industry each country accounts for."
   ]
  },
  {
   "cell_type": "code",
   "execution_count": 4,
   "id": "e616d3d8-4693-4acd-a8e8-6e4ddba42711",
   "metadata": {},
   "outputs": [],
   "source": [
    "# Clean up some inconsistent formatting in the \"Industry\" column.\n",
    "bdc['Industry'] = bdc['Industry'].map(str.title)\n",
    "bdc['Industry'] = bdc['Industry'].map(str.strip)\n",
    "# Turn the lists provided in the \"Investors\" column into python lists.\n",
    "bdc['Investors'] = bdc['Investors'].map(lambda x:re.sub('[\\[\\]\"]', '', x).split(','))"
   ]
  },
  {
   "cell_type": "code",
   "execution_count": 5,
   "id": "0fbc7b7b-7183-4c06-8e5f-c35a189cc48e",
   "metadata": {},
   "outputs": [],
   "source": [
    "industries_by_country = pd.DataFrame([])\n",
    "# Count each industry for each country and turn that into a dataframe.\n",
    "for country in bdc['Country'].unique():\n",
    "    industries_in_country = bdc[bdc['Country'] == country]['Industry'].value_counts()\n",
    "    industries_in_country.name = country\n",
    "    industries_by_country = industries_by_country.append(industries_in_country)\n",
    "\n",
    "industries_by_country.fillna(0, inplace=True)\n",
    "# Sort countries from most startups to least.\n",
    "industries_by_country['Total'] = industries_by_country.sum(axis=1)\n",
    "industries_by_country.sort_values('Total', inplace=True, ascending=False)\n",
    "industries_by_country.drop('Total', axis=1, inplace=True)\n",
    "# Sort industries from most startups to least.\n",
    "industries_by_country = industries_by_country.reindex(industries_by_country.sum(axis=0).sort_values(ascending=True).index, axis=1)"
   ]
  },
  {
   "cell_type": "code",
   "execution_count": 6,
   "id": "b88a1cd0-d151-42f7-aed8-f9bfed56d412",
   "metadata": {},
   "outputs": [
    {
     "data": {
      "text/html": [
       "<div>\n",
       "<style scoped>\n",
       "    .dataframe tbody tr th:only-of-type {\n",
       "        vertical-align: middle;\n",
       "    }\n",
       "\n",
       "    .dataframe tbody tr th {\n",
       "        vertical-align: top;\n",
       "    }\n",
       "\n",
       "    .dataframe thead th {\n",
       "        text-align: right;\n",
       "    }\n",
       "</style>\n",
       "<table border=\"1\" class=\"dataframe\">\n",
       "  <thead>\n",
       "    <tr style=\"text-align: right;\">\n",
       "      <th></th>\n",
       "      <th>Travel</th>\n",
       "      <th>Consumer &amp; Retail</th>\n",
       "      <th>Edtech</th>\n",
       "      <th>Auto &amp; Transportation</th>\n",
       "      <th>Hardware</th>\n",
       "      <th>Mobile &amp; Telecommunications</th>\n",
       "      <th>Data Management &amp; Analytics</th>\n",
       "      <th>Cybersecurity</th>\n",
       "      <th>Other</th>\n",
       "      <th>Supply Chain, Logistics, &amp; Delivery</th>\n",
       "      <th>Artificial Intelligence</th>\n",
       "      <th>Health</th>\n",
       "      <th>E-Commerce &amp; Direct-To-Consumer</th>\n",
       "      <th>Internet Software &amp; Services</th>\n",
       "      <th>Fintech</th>\n",
       "    </tr>\n",
       "  </thead>\n",
       "  <tbody>\n",
       "    <tr>\n",
       "      <th>United States</th>\n",
       "      <td>1.0</td>\n",
       "      <td>13.0</td>\n",
       "      <td>9.0</td>\n",
       "      <td>10.0</td>\n",
       "      <td>13.0</td>\n",
       "      <td>13.0</td>\n",
       "      <td>35.0</td>\n",
       "      <td>45.0</td>\n",
       "      <td>33.0</td>\n",
       "      <td>26.0</td>\n",
       "      <td>52.0</td>\n",
       "      <td>72.0</td>\n",
       "      <td>27.0</td>\n",
       "      <td>163.0</td>\n",
       "      <td>133.0</td>\n",
       "    </tr>\n",
       "    <tr>\n",
       "      <th>China</th>\n",
       "      <td>3.0</td>\n",
       "      <td>8.0</td>\n",
       "      <td>12.0</td>\n",
       "      <td>18.0</td>\n",
       "      <td>18.0</td>\n",
       "      <td>13.0</td>\n",
       "      <td>2.0</td>\n",
       "      <td>1.0</td>\n",
       "      <td>6.0</td>\n",
       "      <td>12.0</td>\n",
       "      <td>19.0</td>\n",
       "      <td>10.0</td>\n",
       "      <td>28.0</td>\n",
       "      <td>15.0</td>\n",
       "      <td>8.0</td>\n",
       "    </tr>\n",
       "    <tr>\n",
       "      <th>India</th>\n",
       "      <td>1.0</td>\n",
       "      <td>0.0</td>\n",
       "      <td>7.0</td>\n",
       "      <td>2.0</td>\n",
       "      <td>0.0</td>\n",
       "      <td>1.0</td>\n",
       "      <td>1.0</td>\n",
       "      <td>0.0</td>\n",
       "      <td>2.0</td>\n",
       "      <td>7.0</td>\n",
       "      <td>0.0</td>\n",
       "      <td>2.0</td>\n",
       "      <td>17.0</td>\n",
       "      <td>13.0</td>\n",
       "      <td>17.0</td>\n",
       "    </tr>\n",
       "    <tr>\n",
       "      <th>United Kingdom</th>\n",
       "      <td>0.0</td>\n",
       "      <td>1.0</td>\n",
       "      <td>1.0</td>\n",
       "      <td>1.0</td>\n",
       "      <td>1.0</td>\n",
       "      <td>1.0</td>\n",
       "      <td>1.0</td>\n",
       "      <td>0.0</td>\n",
       "      <td>4.0</td>\n",
       "      <td>1.0</td>\n",
       "      <td>2.0</td>\n",
       "      <td>2.0</td>\n",
       "      <td>2.0</td>\n",
       "      <td>3.0</td>\n",
       "      <td>27.0</td>\n",
       "    </tr>\n",
       "    <tr>\n",
       "      <th>Germany</th>\n",
       "      <td>3.0</td>\n",
       "      <td>1.0</td>\n",
       "      <td>0.0</td>\n",
       "      <td>2.0</td>\n",
       "      <td>1.0</td>\n",
       "      <td>0.0</td>\n",
       "      <td>1.0</td>\n",
       "      <td>0.0</td>\n",
       "      <td>2.0</td>\n",
       "      <td>3.0</td>\n",
       "      <td>0.0</td>\n",
       "      <td>1.0</td>\n",
       "      <td>5.0</td>\n",
       "      <td>4.0</td>\n",
       "      <td>6.0</td>\n",
       "    </tr>\n",
       "  </tbody>\n",
       "</table>\n",
       "</div>"
      ],
      "text/plain": [
       "                Travel  Consumer & Retail  Edtech  Auto & Transportation  \\\n",
       "United States      1.0               13.0     9.0                   10.0   \n",
       "China              3.0                8.0    12.0                   18.0   \n",
       "India              1.0                0.0     7.0                    2.0   \n",
       "United Kingdom     0.0                1.0     1.0                    1.0   \n",
       "Germany            3.0                1.0     0.0                    2.0   \n",
       "\n",
       "                Hardware  Mobile & Telecommunications  \\\n",
       "United States       13.0                         13.0   \n",
       "China               18.0                         13.0   \n",
       "India                0.0                          1.0   \n",
       "United Kingdom       1.0                          1.0   \n",
       "Germany              1.0                          0.0   \n",
       "\n",
       "                Data Management & Analytics  Cybersecurity  Other  \\\n",
       "United States                          35.0           45.0   33.0   \n",
       "China                                   2.0            1.0    6.0   \n",
       "India                                   1.0            0.0    2.0   \n",
       "United Kingdom                          1.0            0.0    4.0   \n",
       "Germany                                 1.0            0.0    2.0   \n",
       "\n",
       "                Supply Chain, Logistics, & Delivery  Artificial Intelligence  \\\n",
       "United States                                  26.0                     52.0   \n",
       "China                                          12.0                     19.0   \n",
       "India                                           7.0                      0.0   \n",
       "United Kingdom                                  1.0                      2.0   \n",
       "Germany                                         3.0                      0.0   \n",
       "\n",
       "                Health  E-Commerce & Direct-To-Consumer  \\\n",
       "United States     72.0                             27.0   \n",
       "China             10.0                             28.0   \n",
       "India              2.0                             17.0   \n",
       "United Kingdom     2.0                              2.0   \n",
       "Germany            1.0                              5.0   \n",
       "\n",
       "                Internet Software & Services  Fintech  \n",
       "United States                          163.0    133.0  \n",
       "China                                   15.0      8.0  \n",
       "India                                   13.0     17.0  \n",
       "United Kingdom                           3.0     27.0  \n",
       "Germany                                  4.0      6.0  "
      ]
     },
     "execution_count": 6,
     "metadata": {},
     "output_type": "execute_result"
    }
   ],
   "source": [
    "industries_by_country.head()"
   ]
  },
  {
   "cell_type": "code",
   "execution_count": 7,
   "id": "8ac284a0-e16f-4fe2-9433-f53ea70b7c13",
   "metadata": {},
   "outputs": [
    {
     "data": {
      "text/plain": [
       "[1, 3, 4, 2]"
      ]
     },
     "execution_count": 7,
     "metadata": {},
     "output_type": "execute_result"
    }
   ],
   "source": [
    "[*[1, 3, 4], 2]"
   ]
  },
  {
   "cell_type": "code",
   "execution_count": 8,
   "id": "f8f5c64e-b483-4ec7-a11e-d1728212b53f",
   "metadata": {},
   "outputs": [
    {
     "data": {
      "image/png": "[encoded data removed]",
      "text/plain": [
       "<Figure size 504x360 with 1 Axes>"
      ]
     },
     "metadata": {
      "needs_background": "light"
     },
     "output_type": "display_data"
    }
   ],
   "source": [
    "n = 3\n",
    "\n",
    "fig, ax = plt.subplots(figsize=(7, 5))\n",
    "handles = []\n",
    "\n",
    "top_n_countries = industries_by_country.head(n)\n",
    "left = np.zeros(top_n_countries.shape[1])\n",
    "\n",
    "for country in top_n_countries.index:\n",
    "    values = top_n_countries.loc[country]\n",
    "    industries = top_n_countries.columns\n",
    "    \n",
    "    handles.append(ax.barh(industries, values, left=left))\n",
    "    \n",
    "    left += values\n",
    "\n",
    "remain_country_count = industries_by_country.shape[0] - n\n",
    "other_countries = industries_by_country.tail(remain_country_count)\n",
    "handles.append(ax.barh(other_countries.columns, \n",
    "                       other_countries.sum(axis=0), \n",
    "                       left=left)\n",
    ")\n",
    "\n",
    "ax.legend(handles, [*top_n_countries.index[:n], 'Other'])\n",
    "plt.show()"
   ]
  },
  {
   "cell_type": "markdown",
   "id": "eed66e4b-dc7e-4140-a075-f5a82d0cf7ed",
   "metadata": {},
   "source": [
    "The US seems to have dominance over many industries, especially cybersecurity and health. However, in oher industries like hardware and auto & transportation, China takes the majority. Still others are very competitive, like e-commerce businesses.\n",
    "\n",
    "This tells us that certain countries do fare better in certain industries, and on a larger scale certain industries are more or less easy to break into. Feel free to speculate on the underlying causes here; I'm personally going for both goverment regulation and a lack of government regulation."
   ]
  },
  {
   "cell_type": "markdown",
   "id": "22f5990a-0af6-4032-b9df-a9f48ddaf236",
   "metadata": {},
   "source": [
    "#### What is the value of each industry?\n",
    "Now that we know the general distribution of the startups in our data we can look at a more - ...profitable? Actionable? Simple? - question: What is the most valued industry? Or for the purposes of this analysis, which industry has the highest average valuation?"
   ]
  },
  {
   "cell_type": "code",
   "execution_count": 9,
   "id": "917f0fcc-ea16-4962-8e34-459be12cd33f",
   "metadata": {},
   "outputs": [
    {
     "data": {
      "image/png": "[encoded data removed]",
      "text/plain": [
       "<Figure size 360x360 with 1 Axes>"
      ]
     },
     "metadata": {
      "needs_background": "light"
     },
     "output_type": "display_data"
    }
   ],
   "source": [
    "fig = plt.figure(figsize=(5, 5))\n",
    "ax = fig.add_axes([0, 0, 1, 1])\n",
    "\n",
    "industry_means = bdc['Last Valuation (Billion $)'].groupby(bdc['Industry']).mean()\n",
    "industry_means.sort_values(inplace = True)\n",
    "\n",
    "ax.barh(industry_means.index, industry_means)\n",
    "plt.show()"
   ]
  },
  {
   "cell_type": "markdown",
   "id": "ec98a803-0dcd-47b1-bf28-5c4c48c655c9",
   "metadata": {},
   "source": [
    "From this graph we can see that aside from the mysterious and ever elusive \"Other\", the most valued industry is AI. This makes sense from a gut perspective as well; a lot of the fervor in the tech industry is around AI and its potential, so obviously investors want to get in on it as soon as possible."
   ]
  },
  {
   "cell_type": "code",
   "execution_count": 10,
   "id": "d94a7bdf-1742-41bc-8565-85976d6f0721",
   "metadata": {},
   "outputs": [
    {
     "data": {
      "text/html": [
       "<div>\n",
       "<style scoped>\n",
       "    .dataframe tbody tr th:only-of-type {\n",
       "        vertical-align: middle;\n",
       "    }\n",
       "\n",
       "    .dataframe tbody tr th {\n",
       "        vertical-align: top;\n",
       "    }\n",
       "\n",
       "    .dataframe thead th {\n",
       "        text-align: right;\n",
       "    }\n",
       "</style>\n",
       "<table border=\"1\" class=\"dataframe\">\n",
       "  <thead>\n",
       "    <tr style=\"text-align: right;\">\n",
       "      <th></th>\n",
       "      <th>Updated at</th>\n",
       "      <th>Company</th>\n",
       "      <th>Crunchbase Url</th>\n",
       "      <th>Last Valuation (Billion $)</th>\n",
       "      <th>Date Joined</th>\n",
       "      <th>Year Joined</th>\n",
       "      <th>City</th>\n",
       "      <th>Country</th>\n",
       "      <th>Industry</th>\n",
       "      <th>Investors</th>\n",
       "      <th>Company Website</th>\n",
       "    </tr>\n",
       "  </thead>\n",
       "  <tbody>\n",
       "    <tr>\n",
       "      <th>1121</th>\n",
       "      <td>10/31/2022, 2:32:38 AM</td>\n",
       "      <td>ByteDance</td>\n",
       "      <td>https://www.cbinsights.com/company/bytedance</td>\n",
       "      <td>140.0</td>\n",
       "      <td>4/7/2017</td>\n",
       "      <td>2017</td>\n",
       "      <td>Beijing</td>\n",
       "      <td>China</td>\n",
       "      <td>Artificial Intelligence</td>\n",
       "      <td>[Sequoia Capital China, SIG Asia Investments, ...</td>\n",
       "      <td>NaN</td>\n",
       "    </tr>\n",
       "    <tr>\n",
       "      <th>1195</th>\n",
       "      <td>10/31/2022, 2:32:38 AM</td>\n",
       "      <td>SpaceX</td>\n",
       "      <td>https://www.cbinsights.com/company/space-explo...</td>\n",
       "      <td>127.0</td>\n",
       "      <td>12/1/2012</td>\n",
       "      <td>2012</td>\n",
       "      <td>Hawthorne</td>\n",
       "      <td>United States</td>\n",
       "      <td>Other</td>\n",
       "      <td>[Founders Fund, Draper Fisher Jurvetson, Rothe...</td>\n",
       "      <td>NaN</td>\n",
       "    </tr>\n",
       "    <tr>\n",
       "      <th>1079</th>\n",
       "      <td>10/31/2022, 2:32:39 AM</td>\n",
       "      <td>SHEIN</td>\n",
       "      <td>https://www.cbinsights.com/company/shein</td>\n",
       "      <td>100.0</td>\n",
       "      <td>7/3/2018</td>\n",
       "      <td>2018</td>\n",
       "      <td>Shenzhen</td>\n",
       "      <td>China</td>\n",
       "      <td>E-Commerce &amp; Direct-To-Consumer</td>\n",
       "      <td>[Tiger Global Management, Sequoia Capital Chin...</td>\n",
       "      <td>NaN</td>\n",
       "    </tr>\n",
       "    <tr>\n",
       "      <th>1188</th>\n",
       "      <td>10/31/2022, 2:32:39 AM</td>\n",
       "      <td>Stripe</td>\n",
       "      <td>https://www.cbinsights.com/company/stripe</td>\n",
       "      <td>95.0</td>\n",
       "      <td>1/23/2014</td>\n",
       "      <td>2014</td>\n",
       "      <td>San Francisco</td>\n",
       "      <td>United States</td>\n",
       "      <td>Fintech</td>\n",
       "      <td>[Khosla Ventures, LowercaseCapital, capitalG]</td>\n",
       "      <td>NaN</td>\n",
       "    </tr>\n",
       "    <tr>\n",
       "      <th>1078</th>\n",
       "      <td>10/31/2022, 2:32:40 AM</td>\n",
       "      <td>Canva</td>\n",
       "      <td>https://www.cbinsights.com/company/canva</td>\n",
       "      <td>40.0</td>\n",
       "      <td>1/8/2018</td>\n",
       "      <td>2018</td>\n",
       "      <td>Surry Hills</td>\n",
       "      <td>Australia</td>\n",
       "      <td>Internet Software &amp; Services</td>\n",
       "      <td>[Sequoia Capital China, Blackbird Ventures, Ma...</td>\n",
       "      <td>NaN</td>\n",
       "    </tr>\n",
       "  </tbody>\n",
       "</table>\n",
       "</div>"
      ],
      "text/plain": [
       "                  Updated at    Company  \\\n",
       "1121  10/31/2022, 2:32:38 AM  ByteDance   \n",
       "1195  10/31/2022, 2:32:38 AM     SpaceX   \n",
       "1079  10/31/2022, 2:32:39 AM      SHEIN   \n",
       "1188  10/31/2022, 2:32:39 AM     Stripe   \n",
       "1078  10/31/2022, 2:32:40 AM      Canva   \n",
       "\n",
       "                                         Crunchbase Url  \\\n",
       "1121       https://www.cbinsights.com/company/bytedance   \n",
       "1195  https://www.cbinsights.com/company/space-explo...   \n",
       "1079           https://www.cbinsights.com/company/shein   \n",
       "1188          https://www.cbinsights.com/company/stripe   \n",
       "1078           https://www.cbinsights.com/company/canva   \n",
       "\n",
       "      Last Valuation (Billion $) Date Joined  Year Joined           City  \\\n",
       "1121                       140.0    4/7/2017         2017        Beijing   \n",
       "1195                       127.0   12/1/2012         2012      Hawthorne   \n",
       "1079                       100.0    7/3/2018         2018       Shenzhen   \n",
       "1188                        95.0   1/23/2014         2014  San Francisco   \n",
       "1078                        40.0    1/8/2018         2018    Surry Hills   \n",
       "\n",
       "            Country                         Industry  \\\n",
       "1121          China          Artificial Intelligence   \n",
       "1195  United States                            Other   \n",
       "1079          China  E-Commerce & Direct-To-Consumer   \n",
       "1188  United States                          Fintech   \n",
       "1078      Australia     Internet Software & Services   \n",
       "\n",
       "                                              Investors  Company Website  \n",
       "1121  [Sequoia Capital China, SIG Asia Investments, ...              NaN  \n",
       "1195  [Founders Fund, Draper Fisher Jurvetson, Rothe...              NaN  \n",
       "1079  [Tiger Global Management, Sequoia Capital Chin...              NaN  \n",
       "1188      [Khosla Ventures, LowercaseCapital, capitalG]              NaN  \n",
       "1078  [Sequoia Capital China, Blackbird Ventures, Ma...              NaN  "
      ]
     },
     "execution_count": 10,
     "metadata": {},
     "output_type": "execute_result"
    }
   ],
   "source": [
    "bdc.sort_values('Last Valuation (Billion $)', ascending = False).head(5)"
   ]
  },
  {
   "cell_type": "markdown",
   "id": "c2c610fa-8b56-47dc-ad3f-d1c362b0d2d0",
   "metadata": {},
   "source": [
    "I also wanted to look at what the top 5 companies actually were, and while SpaceX and ByteDance are to be expected if you know those companies. (I actually didn't know ByteDance but I looked it up and yeah it makes perfect sense) \n",
    "\n",
    "However I was surprised to see Canva there. It's not nearly as valuable as the others but it is still wildly outside of my own expectations."
   ]
  },
  {
   "cell_type": "markdown",
   "id": "42ba9178-4fde-4b5a-8438-9bf3186eb23b",
   "metadata": {},
   "source": [
    "#### What investors have the most diverse portfolios?\n",
    "We've talked a lot about startups and how investors see them, but who are these investors actually? Let's see who these investors are, and what the most common ones are investing in."
   ]
  },
  {
   "cell_type": "code",
   "execution_count": 11,
   "id": "0121b637-980a-46a7-bcd0-f22507c1392f",
   "metadata": {},
   "outputs": [],
   "source": [
    "investors = pd.get_dummies(bdc['Investors'].apply(pd.Series).stack()).sum(level=0)"
   ]
  },
  {
   "cell_type": "code",
   "execution_count": 12,
   "id": "c4a9cebb-6ca3-4132-9683-7c19d214e8d2",
   "metadata": {},
   "outputs": [],
   "source": [
    "ranked_investors = investors.sum(axis=0).sort_values(ascending=False)"
   ]
  },
  {
   "cell_type": "code",
   "execution_count": 13,
   "id": "3c6c7799-63e1-4a22-96fc-9dcc7b2a1ccf",
   "metadata": {},
   "outputs": [
    {
     "data": {
      "text/plain": [
       "Accel                          64\n",
       "Andreessen Horowitz            60\n",
       "Tiger Global Management        57\n",
       "Insight Partners               56\n",
       "Sequoia Capital                53\n",
       "Sequoia Capital China          48\n",
       "General Catalyst               43\n",
       "Lightspeed Venture Partners    40\n",
       "SoftBank Group                 35\n",
       "Index Ventures                 32\n",
       "dtype: int64"
      ]
     },
     "execution_count": 13,
     "metadata": {},
     "output_type": "execute_result"
    }
   ],
   "source": [
    "ranked_investors.head(10)"
   ]
  },
  {
   "cell_type": "code",
   "execution_count": 14,
   "id": "9806b285-f095-47c7-88ce-af39270164e1",
   "metadata": {},
   "outputs": [
    {
     "data": {
      "image/png": "[encoded data removed]",
      "text/plain": [
       "<Figure size 432x288 with 1 Axes>"
      ]
     },
     "metadata": {
      "needs_background": "light"
     },
     "output_type": "display_data"
    }
   ],
   "source": [
    "top_10_investors = ranked_investors.head(10)\n",
    "top_10_investors.sort_values(ascending=True, inplace=True)\n",
    "\n",
    "plt.barh(top_10_investors.index[0:10], top_10_investors.head(10))\n",
    "plt.show()"
   ]
  },
  {
   "cell_type": "code",
   "execution_count": 31,
   "id": "4c2e9545-7c94-4136-9dde-1e140361afdb",
   "metadata": {},
   "outputs": [
    {
     "data": {
      "image/png": "[encoded data removed]",
      "text/plain": [
       "<Figure size 864x864 with 4 Axes>"
      ]
     },
     "metadata": {
      "needs_background": "light"
     },
     "output_type": "display_data"
    }
   ],
   "source": [
    "n = 4\n",
    "\n",
    "fig, axs = plt.subplots(math.ceil(n/2), 2, figsize=(12, 12))\n",
    "\n",
    "for i in range(n):\n",
    "    investor = ranked_investors.index[i]\n",
    "    ax = axs.flatten()[i]\n",
    "    investor_portfolio = bdc[investors[investor] == 1].groupby('Industry').count()\n",
    "    investor_portfolio = investor_portfolio.sort_values('Company')\n",
    "    ax.barh(investor_portfolio.index, investor_portfolio['Company'])\n",
    "    ax.set_title(investor)\n",
    "\n",
    "fig.tight_layout()"
   ]
  },
  {
   "cell_type": "markdown",
   "id": "4889b212-ad8e-4a87-82a7-1da4bce6ba1d",
   "metadata": {},
   "source": [
    "While the names of the top 10 investors don't really tell us much, the industries they invest in do. We can see that internet software & services and fintech are the primary interests of the top four investors. After that the priorities are actually pretty individual to each investor."
   ]
  },
  {
   "cell_type": "markdown",
   "id": "b2260782-e4cd-4e4c-bad0-9feab9cab995",
   "metadata": {},
   "source": [
    "#### What's in a name? (Bonus Round)\n",
    "Now let's have a little fun. I wonder if we can find any trends related to the names, or at least the lengths of the names of companies."
   ]
  },
  {
   "cell_type": "code",
   "execution_count": 16,
   "id": "ebb360be-4ec0-4499-ad47-b5f20526e153",
   "metadata": {},
   "outputs": [
    {
     "data": {
      "image/png": "[encoded data removed]",
      "text/plain": [
       "<Figure size 432x288 with 1 Axes>"
      ]
     },
     "metadata": {
      "needs_background": "light"
     },
     "output_type": "display_data"
    }
   ],
   "source": [
    "plt.hist(bdc['Company'].str.len(), bins=range(40))\n",
    "\n",
    "plt.show()"
   ]
  },
  {
   "cell_type": "markdown",
   "id": "6cd258e1-f5c5-4f40-8179-c985b3902b1d",
   "metadata": {},
   "source": [
    "Well, that is a normal distribution if I've ever seen one. It seems most companies have a name of around 5-10 characters, with only a couple having more than 30."
   ]
  },
  {
   "cell_type": "code",
   "execution_count": 17,
   "id": "ef161ffd-3258-4f03-88e7-6cb4ce0a22fc",
   "metadata": {},
   "outputs": [
    {
     "data": {
      "text/html": [
       "<div>\n",
       "<style scoped>\n",
       "    .dataframe tbody tr th:only-of-type {\n",
       "        vertical-align: middle;\n",
       "    }\n",
       "\n",
       "    .dataframe tbody tr th {\n",
       "        vertical-align: top;\n",
       "    }\n",
       "\n",
       "    .dataframe thead th {\n",
       "        text-align: right;\n",
       "    }\n",
       "</style>\n",
       "<table border=\"1\" class=\"dataframe\">\n",
       "  <thead>\n",
       "    <tr style=\"text-align: right;\">\n",
       "      <th></th>\n",
       "      <th>Updated at</th>\n",
       "      <th>Company</th>\n",
       "      <th>Crunchbase Url</th>\n",
       "      <th>Last Valuation (Billion $)</th>\n",
       "      <th>Date Joined</th>\n",
       "      <th>Year Joined</th>\n",
       "      <th>City</th>\n",
       "      <th>Country</th>\n",
       "      <th>Industry</th>\n",
       "      <th>Investors</th>\n",
       "      <th>Company Website</th>\n",
       "    </tr>\n",
       "  </thead>\n",
       "  <tbody>\n",
       "    <tr>\n",
       "      <th>170</th>\n",
       "      <td>10/31/2022, 2:35:00 AM</td>\n",
       "      <td>Fresh Life Style Supply Chain Management</td>\n",
       "      <td>https://www.cbinsights.com/company/xianshenghuo</td>\n",
       "      <td>1.57</td>\n",
       "      <td>3/11/2022</td>\n",
       "      <td>2022</td>\n",
       "      <td>Chengdu</td>\n",
       "      <td>China</td>\n",
       "      <td>Supply Chain, Logistics, &amp; Delivery</td>\n",
       "      <td>[Guiyang Venture Capital, Longfor Capital, CAO...</td>\n",
       "      <td>NaN</td>\n",
       "    </tr>\n",
       "  </tbody>\n",
       "</table>\n",
       "</div>"
      ],
      "text/plain": [
       "                 Updated at                                   Company  \\\n",
       "170  10/31/2022, 2:35:00 AM  Fresh Life Style Supply Chain Management   \n",
       "\n",
       "                                      Crunchbase Url  \\\n",
       "170  https://www.cbinsights.com/company/xianshenghuo   \n",
       "\n",
       "     Last Valuation (Billion $) Date Joined  Year Joined     City Country  \\\n",
       "170                        1.57   3/11/2022         2022  Chengdu   China   \n",
       "\n",
       "                                Industry  \\\n",
       "170  Supply Chain, Logistics, & Delivery   \n",
       "\n",
       "                                             Investors  Company Website  \n",
       "170  [Guiyang Venture Capital, Longfor Capital, CAO...              NaN  "
      ]
     },
     "execution_count": 17,
     "metadata": {},
     "output_type": "execute_result"
    }
   ],
   "source": [
    "bdc[bdc['Company'].str.len() == 40]"
   ]
  },
  {
   "cell_type": "markdown",
   "id": "d7a051b3-535b-4fba-bb0d-08d415e09f7c",
   "metadata": {},
   "source": [
    "Incidentally if you were wondering what the company with the longest name in the dataset was, it turns out to be Fresh Life Style Supply Chain Management. If you ask me it's cheating to put the thing your company does in the name, but if that was a rule SpaceX would just be X so I suppose you take the bad with the good."
   ]
  },
  {
   "cell_type": "code",
   "execution_count": 18,
   "id": "c5ce83c9-7847-4de3-9de5-ebf2221712c6",
   "metadata": {},
   "outputs": [
    {
     "data": {
      "image/png": "[encoded data removed]",
      "text/plain": [
       "<Figure size 432x288 with 1 Axes>"
      ]
     },
     "metadata": {
      "needs_background": "light"
     },
     "output_type": "display_data"
    }
   ],
   "source": [
    "len_mean = bdc['Last Valuation (Billion $)'].groupby(bdc['Company'].str.len()).mean()\n",
    "plt.bar(len_mean.index, len_mean)\n",
    "plt.show()"
   ]
  },
  {
   "cell_type": "markdown",
   "id": "96f9ae90-15df-4dad-8d3d-f87d821474ed",
   "metadata": {},
   "source": [
    "Lastly I wanted to look at the ditribution of average valuation by name length as well. It does actually seem that the average is a little higher the shorter the name, but I would argue that's an issue of sample size more than anything. \n",
    "\n",
    "More specifically, I think that since we saw earlier that more companies are likely to have shorter names, there is a higher chance for there to be a very valuable company among the shorter named companies. So it's not that having a shorter name means you are more valuable, just that there are more companies, and therefore more highly valued companies, with short names."
   ]
  },
  {
   "cell_type": "markdown",
   "id": "7319db5c-4e79-43b0-b21d-a00c7bb8cb5c",
   "metadata": {},
   "source": [
    "### Using Deep Learning to Predict A Companies Valuation, Because Why Not?"
   ]
  },
  {
   "cell_type": "markdown",
   "id": "46836a5d-3ff1-4a53-99a4-1dc26a1f6cff",
   "metadata": {},
   "source": [
    "##### Feature Creation"
   ]
  },
  {
   "cell_type": "code",
   "execution_count": 19,
   "id": "f2ec286f-0d7a-4394-af1c-f5107c50b0c0",
   "metadata": {},
   "outputs": [
    {
     "data": {
      "text/html": [
       "<div>\n",
       "<style scoped>\n",
       "    .dataframe tbody tr th:only-of-type {\n",
       "        vertical-align: middle;\n",
       "    }\n",
       "\n",
       "    .dataframe tbody tr th {\n",
       "        vertical-align: top;\n",
       "    }\n",
       "\n",
       "    .dataframe thead th {\n",
       "        text-align: right;\n",
       "    }\n",
       "</style>\n",
       "<table border=\"1\" class=\"dataframe\">\n",
       "  <thead>\n",
       "    <tr style=\"text-align: right;\">\n",
       "      <th></th>\n",
       "      <th>Updated at</th>\n",
       "      <th>Company</th>\n",
       "      <th>Crunchbase Url</th>\n",
       "      <th>Last Valuation (Billion $)</th>\n",
       "      <th>Date Joined</th>\n",
       "      <th>Year Joined</th>\n",
       "      <th>City</th>\n",
       "      <th>Country</th>\n",
       "      <th>Industry</th>\n",
       "      <th>Investors</th>\n",
       "      <th>Company Website</th>\n",
       "    </tr>\n",
       "  </thead>\n",
       "  <tbody>\n",
       "    <tr>\n",
       "      <th>0</th>\n",
       "      <td>10/31/2022, 2:37:05 AM</td>\n",
       "      <td>Esusu</td>\n",
       "      <td>https://www.cbinsights.com/company/esusu</td>\n",
       "      <td>1.0</td>\n",
       "      <td>1/27/2022</td>\n",
       "      <td>2022</td>\n",
       "      <td>New York</td>\n",
       "      <td>United States</td>\n",
       "      <td>Fintech</td>\n",
       "      <td>[Next Play Ventures, Zeal Capital Partners, So...</td>\n",
       "      <td>NaN</td>\n",
       "    </tr>\n",
       "    <tr>\n",
       "      <th>1</th>\n",
       "      <td>10/31/2022, 2:37:05 AM</td>\n",
       "      <td>Fever Labs</td>\n",
       "      <td>https://www.cbinsights.com/company/fever-labs</td>\n",
       "      <td>1.0</td>\n",
       "      <td>1/26/2022</td>\n",
       "      <td>2022</td>\n",
       "      <td>New York</td>\n",
       "      <td>United States</td>\n",
       "      <td>Internet Software &amp; Services</td>\n",
       "      <td>[Accel, 14W, GS Growth]</td>\n",
       "      <td>NaN</td>\n",
       "    </tr>\n",
       "    <tr>\n",
       "      <th>2</th>\n",
       "      <td>10/31/2022, 2:37:04 AM</td>\n",
       "      <td>Minio</td>\n",
       "      <td>https://www.cbinsights.com/company/minio</td>\n",
       "      <td>1.0</td>\n",
       "      <td>1/26/2022</td>\n",
       "      <td>2022</td>\n",
       "      <td>Palo Alto</td>\n",
       "      <td>United States</td>\n",
       "      <td>Data Management &amp; Analytics</td>\n",
       "      <td>[General Catalyst, Nexus Venture Partners, Del...</td>\n",
       "      <td>NaN</td>\n",
       "    </tr>\n",
       "    <tr>\n",
       "      <th>3</th>\n",
       "      <td>10/31/2022, 2:37:04 AM</td>\n",
       "      <td>Darwinbox</td>\n",
       "      <td>https://www.cbinsights.com/company/darwinbox</td>\n",
       "      <td>1.0</td>\n",
       "      <td>1/25/2022</td>\n",
       "      <td>2022</td>\n",
       "      <td>Hyderabad</td>\n",
       "      <td>India</td>\n",
       "      <td>Internet Software &amp; Services</td>\n",
       "      <td>[Lightspeed India Partners, Sequoia Capital In...</td>\n",
       "      <td>NaN</td>\n",
       "    </tr>\n",
       "    <tr>\n",
       "      <th>4</th>\n",
       "      <td>10/31/2022, 2:37:04 AM</td>\n",
       "      <td>Pentera</td>\n",
       "      <td>https://www.cbinsights.com/company/pcysys</td>\n",
       "      <td>1.0</td>\n",
       "      <td>1/11/2022</td>\n",
       "      <td>2022</td>\n",
       "      <td>Petah Tikva</td>\n",
       "      <td>Israel</td>\n",
       "      <td>Cybersecurity</td>\n",
       "      <td>[AWZ Ventures, Blackstone, Insight Partners]</td>\n",
       "      <td>NaN</td>\n",
       "    </tr>\n",
       "  </tbody>\n",
       "</table>\n",
       "</div>"
      ],
      "text/plain": [
       "               Updated at     Company  \\\n",
       "0  10/31/2022, 2:37:05 AM       Esusu   \n",
       "1  10/31/2022, 2:37:05 AM  Fever Labs   \n",
       "2  10/31/2022, 2:37:04 AM       Minio   \n",
       "3  10/31/2022, 2:37:04 AM   Darwinbox   \n",
       "4  10/31/2022, 2:37:04 AM     Pentera   \n",
       "\n",
       "                                  Crunchbase Url  Last Valuation (Billion $)  \\\n",
       "0       https://www.cbinsights.com/company/esusu                         1.0   \n",
       "1  https://www.cbinsights.com/company/fever-labs                         1.0   \n",
       "2       https://www.cbinsights.com/company/minio                         1.0   \n",
       "3   https://www.cbinsights.com/company/darwinbox                         1.0   \n",
       "4      https://www.cbinsights.com/company/pcysys                         1.0   \n",
       "\n",
       "  Date Joined  Year Joined         City        Country  \\\n",
       "0   1/27/2022         2022     New York  United States   \n",
       "1   1/26/2022         2022     New York  United States   \n",
       "2   1/26/2022         2022    Palo Alto  United States   \n",
       "3   1/25/2022         2022    Hyderabad          India   \n",
       "4   1/11/2022         2022  Petah Tikva         Israel   \n",
       "\n",
       "                       Industry  \\\n",
       "0                       Fintech   \n",
       "1  Internet Software & Services   \n",
       "2   Data Management & Analytics   \n",
       "3  Internet Software & Services   \n",
       "4                 Cybersecurity   \n",
       "\n",
       "                                           Investors  Company Website  \n",
       "0  [Next Play Ventures, Zeal Capital Partners, So...              NaN  \n",
       "1                            [Accel, 14W, GS Growth]              NaN  \n",
       "2  [General Catalyst, Nexus Venture Partners, Del...              NaN  \n",
       "3  [Lightspeed India Partners, Sequoia Capital In...              NaN  \n",
       "4       [AWZ Ventures, Blackstone, Insight Partners]              NaN  "
      ]
     },
     "execution_count": 19,
     "metadata": {},
     "output_type": "execute_result"
    }
   ],
   "source": [
    "bdc.head()"
   ]
  },
  {
   "cell_type": "code",
   "execution_count": 20,
   "id": "8e68e6fb-c33d-4c21-9af4-fe1c1272d679",
   "metadata": {},
   "outputs": [],
   "source": [
    "investor_dummies = pd.get_dummies(bdc['Investors'].apply(pd.Series).stack())\n",
    "industry_dummies = pd.get_dummies(bdc['Industry'])\n",
    "city_dummies = pd.get_dummies(bdc['City'])\n",
    "year = bdc['Year Joined']"
   ]
  },
  {
   "cell_type": "code",
   "execution_count": 21,
   "id": "35df71c2-8e4e-4126-869f-5d103a97cae8",
   "metadata": {},
   "outputs": [],
   "source": [
    "X = pd.concat([industry_dummies, city_dummies], axis=0).sum(level=0)\n",
    "y = bdc['Last Valuation (Billion $)']"
   ]
  },
  {
   "cell_type": "code",
   "execution_count": 22,
   "id": "52de8efa-5ca2-4102-9ff9-6f40b03fe72f",
   "metadata": {},
   "outputs": [],
   "source": [
    "from sklearn.model_selection import train_test_split\n",
    "X_train, X_test, y_train, y_test = train_test_split(X, y, test_size = 0.25)"
   ]
  },
  {
   "cell_type": "markdown",
   "id": "f492042d-ec48-48d8-af01-a627b3289aa7",
   "metadata": {},
   "source": [
    "##### Model Training"
   ]
  },
  {
   "cell_type": "code",
   "execution_count": 23,
   "id": "0791857d-7b76-4453-a9e0-ccdc93f8475f",
   "metadata": {},
   "outputs": [],
   "source": [
    "from tensorflow import keras"
   ]
  },
  {
   "cell_type": "code",
   "execution_count": 24,
   "id": "db782b05-5260-4425-b123-8725b930a4a2",
   "metadata": {},
   "outputs": [],
   "source": [
    "model = keras.models.Sequential()"
   ]
  },
  {
   "cell_type": "code",
   "execution_count": 25,
   "id": "f6d56c65-d3b6-47fd-8ed6-1b430015f3d5",
   "metadata": {},
   "outputs": [],
   "source": [
    "model.add(keras.layers.Dense(32, input_shape = (None, X.shape[1])))\n",
    "model.add(keras.layers.Dense(8))\n",
    "model.add(keras.layers.Dense(1, activation = 'relu'))"
   ]
  },
  {
   "cell_type": "code",
   "execution_count": 26,
   "id": "68794432-8e17-45b0-9b77-8495288722dd",
   "metadata": {},
   "outputs": [
    {
     "name": "stdout",
     "output_type": "stream",
     "text": [
      "Model: \"sequential\"\n",
      "_________________________________________________________________\n",
      " Layer (type)                Output Shape              Param #   \n",
      "=================================================================\n",
      " dense (Dense)               (None, None, 32)          9536      \n",
      "                                                                 \n",
      " dense_1 (Dense)             (None, None, 8)           264       \n",
      "                                                                 \n",
      " dense_2 (Dense)             (None, None, 1)           9         \n",
      "                                                                 \n",
      "=================================================================\n",
      "Total params: 9,809\n",
      "Trainable params: 9,809\n",
      "Non-trainable params: 0\n",
      "_________________________________________________________________\n"
     ]
    }
   ],
   "source": [
    "model.compile(optimizer = 'Adam', loss = 'mean_squared_error')\n",
    "model.summary()"
   ]
  },
  {
   "cell_type": "code",
   "execution_count": 27,
   "id": "2696bd4e-87a9-486b-964f-c190dc78964f",
   "metadata": {
    "tags": []
   },
   "outputs": [
    {
     "name": "stdout",
     "output_type": "stream",
     "text": [
      "Epoch 1/40\n",
      "WARNING:tensorflow:Model was constructed with shape (None, None, 297) for input KerasTensor(type_spec=TensorSpec(shape=(None, None, 297), dtype=tf.float32, name='dense_input'), name='dense_input', description=\"created by layer 'dense_input'\"), but it was called on an input with incompatible shape (None, 297).\n",
      "WARNING:tensorflow:Model was constructed with shape (None, None, 297) for input KerasTensor(type_spec=TensorSpec(shape=(None, None, 297), dtype=tf.float32, name='dense_input'), name='dense_input', description=\"created by layer 'dense_input'\"), but it was called on an input with incompatible shape (None, 297).\n",
      "29/29 [==============================] - ETA: 0s - loss: 52.8133WARNING:tensorflow:Model was constructed with shape (None, None, 297) for input KerasTensor(type_spec=TensorSpec(shape=(None, None, 297), dtype=tf.float32, name='dense_input'), name='dense_input', description=\"created by layer 'dense_input'\"), but it was called on an input with incompatible shape (None, 297).\n",
      "29/29 [==============================] - 1s 18ms/step - loss: 52.8133 - val_loss: 109.3389\n",
      "Epoch 2/40\n",
      "29/29 [==============================] - 0s 8ms/step - loss: 49.8765 - val_loss: 104.4101\n",
      "Epoch 3/40\n",
      "29/29 [==============================] - 0s 7ms/step - loss: 46.4802 - val_loss: 100.0300\n",
      "Epoch 4/40\n",
      "29/29 [==============================] - 0s 8ms/step - loss: 44.3577 - val_loss: 98.4480\n",
      "Epoch 5/40\n",
      "29/29 [==============================] - 0s 8ms/step - loss: 43.9447 - val_loss: 98.5217\n",
      "Epoch 6/40\n",
      "29/29 [==============================] - 0s 8ms/step - loss: 43.5514 - val_loss: 98.7310\n",
      "Epoch 7/40\n",
      "29/29 [==============================] - 0s 8ms/step - loss: 43.4180 - val_loss: 98.6469\n",
      "Epoch 8/40\n",
      "29/29 [==============================] - 0s 8ms/step - loss: 43.0660 - val_loss: 98.7715\n",
      "Epoch 9/40\n",
      "29/29 [==============================] - 0s 8ms/step - loss: 42.8726 - val_loss: 98.8488\n",
      "Epoch 10/40\n",
      "29/29 [==============================] - 0s 9ms/step - loss: 42.6463 - val_loss: 99.0053\n",
      "Epoch 11/40\n",
      "29/29 [==============================] - 0s 8ms/step - loss: 42.5236 - val_loss: 99.1534\n",
      "Epoch 12/40\n",
      "29/29 [==============================] - 0s 8ms/step - loss: 42.3525 - val_loss: 99.2218\n",
      "Epoch 13/40\n",
      "29/29 [==============================] - 0s 10ms/step - loss: 42.1665 - val_loss: 99.2303\n",
      "Epoch 14/40\n",
      "29/29 [==============================] - 0s 8ms/step - loss: 42.0373 - val_loss: 99.4004\n",
      "Epoch 15/40\n",
      "29/29 [==============================] - 0s 8ms/step - loss: 41.9419 - val_loss: 99.4991\n",
      "Epoch 16/40\n",
      "29/29 [==============================] - 0s 9ms/step - loss: 41.8399 - val_loss: 99.5773\n",
      "Epoch 17/40\n",
      "29/29 [==============================] - 0s 9ms/step - loss: 41.6860 - val_loss: 99.8084\n",
      "Epoch 18/40\n",
      "29/29 [==============================] - 0s 9ms/step - loss: 41.5923 - val_loss: 99.9052\n",
      "Epoch 19/40\n",
      "29/29 [==============================] - 0s 9ms/step - loss: 41.4724 - val_loss: 99.9905\n",
      "Epoch 20/40\n",
      "29/29 [==============================] - 0s 8ms/step - loss: 41.4154 - val_loss: 100.0545\n",
      "Epoch 21/40\n",
      "29/29 [==============================] - 0s 9ms/step - loss: 41.3158 - val_loss: 100.2444\n",
      "Epoch 22/40\n",
      "29/29 [==============================] - 0s 7ms/step - loss: 41.2247 - val_loss: 100.3435\n",
      "Epoch 23/40\n",
      "29/29 [==============================] - 0s 8ms/step - loss: 41.1469 - val_loss: 100.3596\n",
      "Epoch 24/40\n",
      "29/29 [==============================] - 0s 8ms/step - loss: 41.1466 - val_loss: 100.4042\n",
      "Epoch 25/40\n",
      "29/29 [==============================] - 0s 7ms/step - loss: 41.0401 - val_loss: 100.3163\n",
      "Epoch 26/40\n",
      "29/29 [==============================] - 0s 7ms/step - loss: 41.0082 - val_loss: 100.4840\n",
      "Epoch 27/40\n",
      "29/29 [==============================] - 0s 8ms/step - loss: 40.9883 - val_loss: 100.6229\n",
      "Epoch 28/40\n",
      "29/29 [==============================] - 0s 8ms/step - loss: 40.8887 - val_loss: 100.8093\n",
      "Epoch 29/40\n",
      "29/29 [==============================] - 0s 8ms/step - loss: 40.8455 - val_loss: 100.9711\n",
      "Epoch 30/40\n",
      "29/29 [==============================] - 0s 7ms/step - loss: 40.7875 - val_loss: 101.1023\n",
      "Epoch 31/40\n",
      "29/29 [==============================] - 0s 7ms/step - loss: 40.7425 - val_loss: 101.2211\n",
      "Epoch 32/40\n",
      "29/29 [==============================] - 0s 7ms/step - loss: 40.7063 - val_loss: 101.4085\n",
      "Epoch 33/40\n",
      "29/29 [==============================] - 0s 8ms/step - loss: 40.7001 - val_loss: 101.3345\n",
      "Epoch 34/40\n",
      "29/29 [==============================] - 0s 9ms/step - loss: 40.6445 - val_loss: 101.5543\n",
      "Epoch 35/40\n",
      "29/29 [==============================] - 0s 8ms/step - loss: 40.6156 - val_loss: 101.5248\n",
      "Epoch 36/40\n",
      "29/29 [==============================] - 0s 7ms/step - loss: 40.5624 - val_loss: 101.5136\n",
      "Epoch 37/40\n",
      "29/29 [==============================] - 0s 7ms/step - loss: 40.5691 - val_loss: 101.6511\n",
      "Epoch 38/40\n",
      "29/29 [==============================] - 0s 8ms/step - loss: 40.5171 - val_loss: 101.8346\n",
      "Epoch 39/40\n",
      "29/29 [==============================] - 0s 7ms/step - loss: 40.4813 - val_loss: 101.6868\n",
      "Epoch 40/40\n",
      "29/29 [==============================] - 0s 7ms/step - loss: 40.4296 - val_loss: 101.7121\n"
     ]
    }
   ],
   "source": [
    "history = model.fit(X_train, y_train, epochs = 40, validation_data = (X_test, y_test))"
   ]
  },
  {
   "cell_type": "code",
   "execution_count": 28,
   "id": "c11cf3de-1182-474d-a572-512019124462",
   "metadata": {},
   "outputs": [
    {
     "data": {
      "image/png": "[encoded data removed]",
      "text/plain": [
       "<Figure size 432x288 with 1 Axes>"
      ]
     },
     "metadata": {
      "needs_background": "light"
     },
     "output_type": "display_data"
    }
   ],
   "source": [
    "plt.plot(history.history['loss'])\n",
    "plt.plot(history.history['val_loss'])\n",
    "plt.show()"
   ]
  },
  {
   "cell_type": "markdown",
   "id": "17b5bea2-5856-4dfa-ae16-7940826b29c4",
   "metadata": {},
   "source": [
    "Ok to be totally honest this was absolutely never going to work. The data provided is either too sparse and vague, or way too specific, to be useful. There are so many investors that have only invested in one company, and without that column there are very few patterns you can gather from just the location and industry a company is in.\n",
    "\n",
    "That being said I'm sure there is some data I can pair this with, or some technique that can leverage this data to provide more insight than I am capable of extracting. So, while I am not spending any more time on this for now, if I do find something I'll come back and try it out.\n",
    "\n",
    "This will either be my \"one that got away\" or I will completely forget about it."
   ]
  }
 ],
 "metadata": {
  "kernelspec": {
   "display_name": "Python 3 (ipykernel)",
   "language": "python",
   "name": "python3"
  },
  "language_info": {
   "codemirror_mode": {
    "name": "ipython",
    "version": 3
   },
   "file_extension": ".py",
   "mimetype": "text/x-python",
   "name": "python",
   "nbconvert_exporter": "python",
   "pygments_lexer": "ipython3",
   "version": "3.8.11"
  }
 },
 "nbformat": 4,
 "nbformat_minor": 5
}
